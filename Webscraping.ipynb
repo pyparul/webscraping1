{
 "cells": [
  {
   "cell_type": "code",
   "execution_count": 3,
   "id": "409931b6",
   "metadata": {},
   "outputs": [],
   "source": [
    "#imports\n",
    "import pandas as pd\n",
    "import numpy as np\n",
    "import matplotlib.pyplot as plt\n",
    "from urllib.request import urlopen\n",
    "from bs4 import BeautifulSoup\n",
    "import re"
   ]
  },
  {
   "cell_type": "code",
   "execution_count": 8,
   "id": "68ae66c0",
   "metadata": {},
   "outputs": [
    {
     "name": "stdout",
     "output_type": "stream",
     "text": [
      "Enter 1: 1\n",
      "Enter the main url: https://yoshops.com/\n",
      "Enter 2: 2\n",
      "Enter the page url: https://yoshops.com/t/personal-laptops\n"
     ]
    }
   ],
   "source": [
    "Input = input('Enter 1: ')\n",
    "if Input == '1':\n",
    "    Input = input('Enter the main url: ')\n",
    "    Input = input('Enter 2: ')\n",
    "    if Input == '2':\n",
    "        url = input('Enter the page url: ')\n",
    "html = urlopen(url)"
   ]
  },
  {
   "cell_type": "code",
   "execution_count": 9,
   "id": "d24eada0",
   "metadata": {},
   "outputs": [],
   "source": [
    "def products_name(html):\n",
    "    soup = BeautifulSoup(html, 'html.parser')\n",
    "    divtag = soup.select('div.col-sm-3')\n",
    "    atag = [x.find('a')for x in divtag]\n",
    "    Product_url = [f\"{url}{a['href']}\" for a in atag]\n",
    "    image = [x.find('img')for x in atag]\n",
    "    img_source = [img['src'] for img in image]\n",
    "    Product_name = [x.find('span').text for x in atag]\n",
    "    pricetag = [x.find(\"div\", {\"class\":\"product-price\"}) for x in divtag]\n",
    "    Product_price = [x.find('span').text for x in pricetag] \n",
    "    Products = pd.DataFrame({'Product Name':Product_name,'Product URL': Product_url,'Product_Image': img_source, 'Original Product price': Product_price, 'Shipping charges': 'Free Shipping'})\n",
    "    return Products"
   ]
  },
  {
   "cell_type": "code",
   "execution_count": 10,
   "id": "2c4a8f02",
   "metadata": {},
   "outputs": [],
   "source": [
    "Products = products_name(html)\n",
    "Products_List = pd.ExcelWriter(\"Product_List.xlsx\")\n",
    "Products.to_excel(Products_List)\n",
    "Products_List.save()\n",
    "Products1 = Products[~Products.Product_Image.str.contains(\"https://\")]\n",
    "Products1 = Products1.drop(['Product_Image'], axis=1)\n",
    "ProductswithoutImage = pd.ExcelWriter('Products_withoutImage.xlsx')\n",
    "Products1.to_excel(ProductswithoutImage)\n",
    "ProductswithoutImage.save()"
   ]
  },
  {
   "cell_type": "code",
   "execution_count": 7,
   "id": "3477a6a8",
   "metadata": {},
   "outputs": [],
   "source": [
    "#Two excel files are created, one with all the products, other with the product details of the products whose images are missing"
   ]
  },
  {
   "cell_type": "code",
   "execution_count": null,
   "id": "7b11789e",
   "metadata": {},
   "outputs": [],
   "source": []
  },
  {
   "cell_type": "code",
   "execution_count": null,
   "id": "96a76218",
   "metadata": {},
   "outputs": [],
   "source": []
  },
  {
   "cell_type": "markdown",
   "id": "03f23868",
   "metadata": {},
   "source": [
    "# "
   ]
  }
 ],
 "metadata": {
  "kernelspec": {
   "display_name": "Python 3 (ipykernel)",
   "language": "python",
   "name": "python3"
  },
  "language_info": {
   "codemirror_mode": {
    "name": "ipython",
    "version": 3
   },
   "file_extension": ".py",
   "mimetype": "text/x-python",
   "name": "python",
   "nbconvert_exporter": "python",
   "pygments_lexer": "ipython3",
   "version": "3.9.13"
  }
 },
 "nbformat": 4,
 "nbformat_minor": 5
}
